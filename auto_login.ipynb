{
 "cells": [
  {
   "cell_type": "markdown",
   "metadata": {
    "toc": true
   },
   "source": [
    "<h1>自動ログイン<span class=\"tocSkip\"></span></h1>\n",
    "<div class=\"toc\"><ul class=\"toc-item\"><li><span><a href=\"#Selenium\" data-toc-modified-id=\"Selenium-1\"><span class=\"toc-item-num\">1&nbsp;&nbsp;</span>Selenium</a></span></li><li><span><a href=\"#Google-Cloud-Vision-API\" data-toc-modified-id=\"Google-Cloud-Vision-API-2\"><span class=\"toc-item-num\">2&nbsp;&nbsp;</span>Google Cloud Vision API</a></span></li><li><span><a href=\"#main()実行\" data-toc-modified-id=\"main()実行-3\"><span class=\"toc-item-num\">3&nbsp;&nbsp;</span>main()実行</a></span></li></ul></div>"
   ]
  },
  {
   "cell_type": "markdown",
   "metadata": {},
   "source": [
    "# Selenium"
   ]
  },
  {
   "cell_type": "code",
   "execution_count": 1,
   "metadata": {},
   "outputs": [],
   "source": [
    "from selenium import webdriver\n",
    "from selenium.webdriver.common.alert import Alert\n",
    "from IPython.display import Image, display_png # 画像表示用\n",
    "\n",
    "def main():\n",
    "    \n",
    "    # 指定のURLでブラウザを起動\n",
    "    chrome = webdriver.Chrome('./driver/chromedriver.exe')\n",
    "    chrome.get('https://')\n",
    "\n",
    "\n",
    "    # 操作する要素をid属性で指定\n",
    "    loginBox    = chrome.find_element_by_id('loginId')\n",
    "    passwordBox = chrome.find_element_by_id('password')\n",
    "    reloadBtn   = chrome.find_element_by_id('captcha_reload')\n",
    "    img         = chrome.find_element_by_id('captcha_image')\n",
    "    tokenBox    = chrome.find_element_by_id('token')\n",
    "    loginBtn    = chrome.find_element_by_id('loginBtn')\n",
    "\n",
    "    # 要素を操作\n",
    "    loginBox.send_keys(\"id\")\n",
    "    passwordBox.send_keys(\"password\")\n",
    "    \n",
    "    \n",
    "    # 要素のスクリーンショットをバイナリデータとして取得\n",
    "    png = img.screenshot_as_png\n",
    "\n",
    "    # open(file, mode) + with で close する\n",
    "    with open('./img.png', 'wb') as f:\n",
    "        f.write(png)\n",
    "    \n",
    "    # Google Cloud Vision API の利用\n",
    "    result = request_cloud_vison_api('./img.png')\n",
    "    # 出力結果の加工\n",
    "    text = result[\"responses\"][0][\"textAnnotations\"][0][\"description\"]\n",
    "    num = text_to_num(text)\n",
    "    \n",
    "    # 結果\n",
    "    display_png(Image('./img.png'))\n",
    "    print(num)\n",
    "    \n",
    "    # 検索結果を送信\n",
    "    tokenBox.send_keys(num)\n",
    "    \n",
    "    # loginBtn.click()\n",
    "    \n",
    "    # アラートのOKをクリック\n",
    "    # Alert(chrome).accept()\n",
    "    \n",
    "    # chrome.close()"
   ]
  },
  {
   "cell_type": "markdown",
   "metadata": {},
   "source": [
    "# Google Cloud Vision API"
   ]
  },
  {
   "cell_type": "code",
   "execution_count": 2,
   "metadata": {},
   "outputs": [],
   "source": [
    "import requests\n",
    "import base64\n",
    "import json\n",
    "import re # 正規表現操作のライブラリ\n",
    "\n",
    "# Cloud Vison API にリクエスト\n",
    "def request_cloud_vison_api(file_path):\n",
    "    \n",
    "    GOOGLE_CLOUD_VISION_API_URL = 'https://vision.googleapis.com/v1/images:annotate?key='\n",
    "    API_KEY = 'API_KEY'\n",
    "    URL = GOOGLE_CLOUD_VISION_API_URL + API_KEY\n",
    "    \n",
    "    # jsonに変換するため、str型 Base64エンコード画像を準備\n",
    "    img_base64_str = img_to_base64_str(file_path)\n",
    "\n",
    "    payload = {'requests': [{\n",
    "                   'image': {\n",
    "                        # 画像は以下のいずれかで渡す\n",
    "                        # base64エンコード文字列、Google Cloud Storage URI、ウェブ URL\n",
    "                        'content': img_base64_str\n",
    "                   },\n",
    "                   'features': [{\n",
    "                        # 分析内容\n",
    "                        'type': 'TEXT_DETECTION',\n",
    "                        'maxResults': 10,\n",
    "                    }]\n",
    "               }]\n",
    "              }\n",
    "    res = requests.post(URL, data=json.dumps(payload)) # dict型→str型\n",
    "    return res.json()\n",
    "\n",
    "\n",
    "# 画像読み込み、str型 Base64エンコード画像で返す\n",
    "def img_to_base64_str(file_path):\n",
    "    \n",
    "    with open(file_path, 'rb') as f:         # ファイルオブジェクト\n",
    "        img_bytes = f.read()                  # bytes型\n",
    "        img_b64 = base64.b64encode(img_bytes) # bytes型(Base64エンコード)\n",
    "        img_b64_str = img_b64.decode('utf-8') # str型\n",
    "    return img_b64_str\n",
    "\n",
    "\n",
    "# 文字列から数字のみを取り出す\n",
    "def text_to_num(text): \n",
    "    \n",
    "    # re.sub(正規表現パターン, 置換後文字列, 置換したい文字列)\n",
    "    # \\D : 10進数でない任意の文字（全角数字等を含む）\n",
    "    num = re.sub(\"\\\\D\", \"\", text)\n",
    "    return int(num)"
   ]
  },
  {
   "cell_type": "markdown",
   "metadata": {},
   "source": [
    "# main()実行"
   ]
  },
  {
   "cell_type": "code",
   "execution_count": 3,
   "metadata": {},
   "outputs": [
    {
     "data": {
      "image/png": "[encoded data removed]"
     },
     "metadata": {},
     "output_type": "display_data"
    },
    {
     "name": "stdout",
     "output_type": "stream",
     "text": [
      "1573\n"
     ]
    }
   ],
   "source": [
    "if __name__ == '__main__':\n",
    "    main()"
   ]
  }
 ],
 "metadata": {
  "kernelspec": {
   "display_name": "Python 3",
   "language": "python",
   "name": "python3"
  },
  "language_info": {
   "codemirror_mode": {
    "name": "ipython",
    "version": 3
   },
   "file_extension": ".py",
   "mimetype": "text/x-python",
   "name": "python",
   "nbconvert_exporter": "python",
   "pygments_lexer": "ipython3",
   "version": "3.7.4"
  },
  "toc": {
   "base_numbering": 1,
   "nav_menu": {},
   "number_sections": true,
   "sideBar": true,
   "skip_h1_title": false,
   "title_cell": "自動ログイン",
   "title_sidebar": "Contents",
   "toc_cell": true,
   "toc_position": {
    "height": "658.222px",
    "left": "77px",
    "top": "109.778px",
    "width": "165px"
   },
   "toc_section_display": true,
   "toc_window_display": true
  }
 },
 "nbformat": 4,
 "nbformat_minor": 2
}
